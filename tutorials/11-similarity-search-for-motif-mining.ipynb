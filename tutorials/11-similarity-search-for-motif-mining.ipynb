{
 "cells": [
  {
   "attachments": {},
   "cell_type": "markdown",
   "id": "3a4df227",
   "metadata": {},
   "source": [
    "# Similarity search for motif mining"
   ]
  },
  {
   "attachments": {},
   "cell_type": "markdown",
   "id": "5d29b79c",
   "metadata": {},
   "source": [
    "In this tutorial, we demonstrate how to utilize the similarity functionality to discover images with similar motifs from a collection of Reddit images. We employ the classic `SIFT` feature to identify images with a strikingly similar appearance (image-level pipeline).\n",
    "\n",
    "Additionally, we extend the pipeline by incorporating an object detection model, `YOLO`, in combination with the SIFT feature. This enables us to identify objects within the images that exhibit a similar appearance (object-level similarity).\n",
    "\n",
    "To illustrate the seamless integration of different vector stores, we leverage the power of multiple vector stores, namely `FAISS` and `QDRANT`, within evadb. This demonstrates the ease with which you can utilize diverse vector stores to construct indexes, enhancing your similarity search experience."
   ]
  },
  {
   "attachments": {},
   "cell_type": "markdown",
   "id": "e6df3057",
   "metadata": {},
   "source": [
    "<table align=\"left\">\n",
    "  <td>\n",
    "    <a target=\"_blank\" href=\"https://colab.research.google.com/github/georgia-tech-db/eva/blob/master/tutorials/11-similarity-search-for-motif-mining.ipynb\"><img src=\"https://www.tensorflow.org/images/colab_logo_32px.png\" /> Run on Google Colab</a>\n",
    "  </td>\n",
    "  <td>\n",
    "    <a target=\"_blank\" href=\"https://github.com/georgia-tech-db/eva/blob/master/tutorials/11-similarity-search-for-motif-mining.ipynb\"><img src=\"https://www.tensorflow.org/images/GitHub-Mark-32px.png\" /> View source on GitHub</a>\n",
    "  </td>\n",
    "  <td>\n",
    "    <a target=\"_blank\" href=\"https://github.com/georgia-tech-db/eva/raw/master/tutorials/11-similarity-search-for-motif-mining.ipynb\"><img src=\"https://www.tensorflow.org/images/download_logo_32px.png\" /> Download notebook</a>\n",
    "  </td>\n",
    "</table>"
   ]
  },
  {
   "attachments": {},
   "cell_type": "markdown",
   "id": "50b1674e",
   "metadata": {},
   "source": [
    "### Start EVA server\n",
    "\n",
    "We are reusing the start server notebook for launching the EVA server."
   ]
  },
  {
   "cell_type": "code",
   "execution_count": 66,
   "id": "ece6b332",
   "metadata": {
    "execution": {
     "iopub.execute_input": "2023-05-17T21:09:21.363712Z",
     "iopub.status.busy": "2023-05-17T21:09:21.363329Z",
     "iopub.status.idle": "2023-05-17T21:09:32.229893Z",
     "shell.execute_reply": "2023-05-17T21:09:32.228968Z"
    }
   },
   "outputs": [
    {
     "name": "stdout",
     "output_type": "stream",
     "text": [
      "nohup eva_server > eva.log 2>&1 &\n"
     ]
    }
   ],
   "source": [
    "%run 00-start-eva-server.ipynb\n",
    "cursor = connect_to_server()"
   ]
  },
  {
   "attachments": {},
   "cell_type": "markdown",
   "id": "cc9f4144",
   "metadata": {},
   "source": [
    "### Download reddit dataset"
   ]
  },
  {
   "cell_type": "code",
   "execution_count": 67,
   "id": "527ec1b6",
   "metadata": {
    "execution": {
     "iopub.execute_input": "2023-05-17T21:09:32.234938Z",
     "iopub.status.busy": "2023-05-17T21:09:32.234637Z",
     "iopub.status.idle": "2023-05-17T21:09:32.513695Z",
     "shell.execute_reply": "2023-05-17T21:09:32.511946Z"
    }
   },
   "outputs": [
    {
     "name": "stdout",
     "output_type": "stream",
     "text": [
      "File 'reddit-images.zip' already there; not retrieving.\n",
      "Archive:  reddit-images.zip\n",
      "warning:  stripped absolute path spec from /\n",
      "mapname:  conversion of  failed\n",
      " extracting: reddit-images/g348_d7jgzgf.jpg  \n",
      " extracting: reddit-images/g348_d7jphyc.jpg  \n",
      " extracting: reddit-images/g348_d7ju7dq.jpg  \n",
      " extracting: reddit-images/g348_d7jhhs3.jpg  \n",
      " extracting: reddit-images/g1074_d4n1lmn.jpg  \n",
      " extracting: reddit-images/g1074_d4mxztt.jpg  \n",
      " extracting: reddit-images/g1074_d4n60oy.jpg  \n",
      " extracting: reddit-images/g1074_d4n6fgs.jpg  \n",
      " extracting: reddit-images/g1190_cln9xzr.jpg  \n",
      " extracting: reddit-images/g1190_cln97xm.jpg  \n",
      " extracting: reddit-images/g1190_clna260.jpg  \n",
      " extracting: reddit-images/g1190_clna2x2.jpg  \n",
      " extracting: reddit-images/g1190_clna91w.jpg  \n",
      " extracting: reddit-images/g1190_clnad42.jpg  \n",
      " extracting: reddit-images/g1190_clnajd7.jpg  \n",
      " extracting: reddit-images/g1190_clnapoy.jpg  \n",
      " extracting: reddit-images/g1190_clnarjl.jpg  \n",
      " extracting: reddit-images/g1190_clnavnu.jpg  \n",
      " extracting: reddit-images/g1190_clnbalu.jpg  \n",
      " extracting: reddit-images/g1190_clnbf07.jpg  \n",
      " extracting: reddit-images/g1190_clnc4uy.jpg  \n",
      " extracting: reddit-images/g1190_clncot0.jpg  \n",
      " extracting: reddit-images/g1190_clndsnu.jpg  \n",
      " extracting: reddit-images/g1190_clnce4b.jpg  \n",
      " extracting: reddit-images/g1209_ct65pvl.jpg  \n",
      " extracting: reddit-images/g1209_ct66erw.jpg  \n",
      " extracting: reddit-images/g1209_ct67oqk.jpg  \n",
      " extracting: reddit-images/g1209_ct6a0g5.jpg  \n",
      " extracting: reddit-images/g1209_ct6bf1n.jpg  \n",
      " extracting: reddit-images/g1418_cj3o1h6.jpg  \n",
      " extracting: reddit-images/g1418_cj3om3h.jpg  \n",
      " extracting: reddit-images/g1418_cj3qysz.jpg  \n",
      " extracting: reddit-images/g1418_cj3r4gw.jpg  \n",
      " extracting: reddit-images/g1418_cj3z7jw.jpg  \n"
     ]
    }
   ],
   "source": [
    "\n",
    "!wget -nc https://www.dropbox.com/scl/fo/fcj6ojmii0gw92zg3jb2s/h\\?dl\\=1\\&rlkey\\=j3kj1ox4yn5fhonw06v0pn7r9 -O reddit-images.zip\n",
    "!unzip -o reddit-images.zip -d reddit-images"
   ]
  },
  {
   "attachments": {},
   "cell_type": "markdown",
   "id": "0d8c9917",
   "metadata": {},
   "source": [
    "### Load all images into evadb"
   ]
  },
  {
   "cell_type": "code",
   "execution_count": 68,
   "id": "3b9bca7b",
   "metadata": {
    "execution": {
     "iopub.execute_input": "2023-05-17T21:09:32.519153Z",
     "iopub.status.busy": "2023-05-17T21:09:32.518856Z",
     "iopub.status.idle": "2023-05-17T21:09:33.075047Z",
     "shell.execute_reply": "2023-05-17T21:09:33.074072Z"
    }
   },
   "outputs": [
    {
     "ename": "ExecutorError",
     "evalue": "Load IMAGE failed: encountered unexpected error [Errno 2] No such file or directory: '/home/gkakkar7/VDBMS/eva/tutorials/reddit-images/g1074_d4n6fgs.jpg' -> '/home/gkakkar7/.eva/0.2.4+dev/eva_datasets/13f1b015f916fea1633de03dcf68c643/reddit_images_g1074_d4n6fgs.jpg'",
     "output_type": "error",
     "traceback": [
      "\u001b[0;31m---------------------------------------------------------------------------\u001b[0m",
      "\u001b[0;31mExecutorError\u001b[0m                             Traceback (most recent call last)",
      "Cell \u001b[0;32mIn[68], line 5\u001b[0m\n\u001b[1;32m      3\u001b[0m cursor\u001b[39m.\u001b[39mexecute(\u001b[39m\"\u001b[39m\u001b[39mLOAD IMAGE \u001b[39m\u001b[39m'\u001b[39m\u001b[39mreddit-images/*.jpg\u001b[39m\u001b[39m'\u001b[39m\u001b[39m INTO reddit_dataset;\u001b[39m\u001b[39m\"\u001b[39m)\n\u001b[1;32m      4\u001b[0m response \u001b[39m=\u001b[39m cursor\u001b[39m.\u001b[39mfetch_all()\n\u001b[0;32m----> 5\u001b[0m response\u001b[39m.\u001b[39;49mas_df()\n",
      "File \u001b[0;32m~/VDBMS/eva/test_evadb/lib/python3.8/site-packages/eva/models/server/response.py:50\u001b[0m, in \u001b[0;36mResponse.as_df\u001b[0;34m(self)\u001b[0m\n\u001b[1;32m     48\u001b[0m \u001b[39mdef\u001b[39;00m \u001b[39mas_df\u001b[39m(\u001b[39mself\u001b[39m):\n\u001b[1;32m     49\u001b[0m     \u001b[39mif\u001b[39;00m \u001b[39mself\u001b[39m\u001b[39m.\u001b[39merror \u001b[39mis\u001b[39;00m \u001b[39mnot\u001b[39;00m \u001b[39mNone\u001b[39;00m:\n\u001b[0;32m---> 50\u001b[0m         \u001b[39mraise\u001b[39;00m ExecutorError(\u001b[39mself\u001b[39m\u001b[39m.\u001b[39merror)\n\u001b[1;32m     51\u001b[0m     \u001b[39mif\u001b[39;00m \u001b[39mself\u001b[39m\u001b[39m.\u001b[39mbatch \u001b[39mis\u001b[39;00m \u001b[39mNone\u001b[39;00m:\n\u001b[1;32m     52\u001b[0m         \u001b[39mraise\u001b[39;00m ExecutorError(\u001b[39m\"\u001b[39m\u001b[39mEmpty batch\u001b[39m\u001b[39m\"\u001b[39m)\n",
      "\u001b[0;31mExecutorError\u001b[0m: Load IMAGE failed: encountered unexpected error [Errno 2] No such file or directory: '/home/gkakkar7/VDBMS/eva/tutorials/reddit-images/g1074_d4n6fgs.jpg' -> '/home/gkakkar7/.eva/0.2.4+dev/eva_datasets/13f1b015f916fea1633de03dcf68c643/reddit_images_g1074_d4n6fgs.jpg'"
     ]
    }
   ],
   "source": [
    "cursor.execute(\"DROP TABLE IF EXISTS reddit_dataset;\")\n",
    "response = cursor.fetch_all()\n",
    "cursor.execute(\"LOAD IMAGE 'reddit-images/*.jpg' INTO reddit_dataset;\")\n",
    "response = cursor.fetch_all()\n",
    "response.as_df()"
   ]
  },
  {
   "attachments": {},
   "cell_type": "markdown",
   "id": "6743684c",
   "metadata": {},
   "source": [
    "### Register a SIFT FeatureExtractor \n",
    "It uses `kornia` library to extract sift features for each image"
   ]
  },
  {
   "cell_type": "code",
   "execution_count": 4,
   "id": "182dfe81",
   "metadata": {
    "execution": {
     "iopub.execute_input": "2023-05-17T21:04:46.595456Z",
     "iopub.status.busy": "2023-05-17T21:04:46.595162Z",
     "iopub.status.idle": "2023-05-17T21:04:50.032455Z",
     "shell.execute_reply": "2023-05-17T21:04:50.030199Z"
    }
   },
   "outputs": [],
   "source": [
    "!pip install kornia --quiet"
   ]
  },
  {
   "cell_type": "code",
   "execution_count": 55,
   "id": "49496e97",
   "metadata": {
    "execution": {
     "iopub.execute_input": "2023-05-17T21:04:50.038478Z",
     "iopub.status.busy": "2023-05-17T21:04:50.038128Z",
     "iopub.status.idle": "2023-05-17T21:04:50.068502Z",
     "shell.execute_reply": "2023-05-17T21:04:50.067516Z"
    }
   },
   "outputs": [],
   "source": [
    "cursor.execute(\"\"\"CREATE UDF IF NOT EXISTS SiftFeatureExtractor\n",
    "                    IMPL  '../eva/udfs/sift_feature_extractor.py'\"\"\")\n",
    "response = cursor.fetch_all()\n",
    "response.as_df()"
   ]
  },
  {
   "cell_type": "code",
   "execution_count": 56,
   "id": "1101ec76",
   "metadata": {
    "execution": {
     "iopub.execute_input": "2023-05-17T21:04:50.071684Z",
     "iopub.status.busy": "2023-05-17T21:04:50.071419Z",
     "iopub.status.idle": "2023-05-17T21:04:50.075708Z",
     "shell.execute_reply": "2023-05-17T21:04:50.074797Z"
    }
   },
   "outputs": [],
   "source": [
    "# Keep track of which image gets the most votes\n",
    "from collections import Counter\n",
    "vote = Counter()"
   ]
  },
  {
   "cell_type": "markdown",
   "id": "cc5a1e73",
   "metadata": {
    "execution": {
     "iopub.execute_input": "2023-05-10T04:14:02.011536Z",
     "iopub.status.busy": "2023-05-10T04:14:02.011425Z",
     "iopub.status.idle": "2023-05-10T04:14:02.015115Z",
     "shell.execute_reply": "2023-05-10T04:14:02.014808Z"
    }
   },
   "source": [
    "## Image-level similarity search pipeline. \n",
    "This pipeline creates one vector per image. Next, we should breakdown steps how we build the index and search similar vectors using the index."
   ]
  },
  {
   "cell_type": "code",
   "execution_count": 57,
   "id": "d85e3fa4",
   "metadata": {
    "execution": {
     "iopub.execute_input": "2023-05-17T21:04:50.079003Z",
     "iopub.status.busy": "2023-05-17T21:04:50.078500Z",
     "iopub.status.idle": "2023-05-17T21:04:50.810921Z",
     "shell.execute_reply": "2023-05-17T21:04:50.809916Z"
    }
   },
   "outputs": [],
   "source": [
    "#1. Create index for the entire image\n",
    "cursor.execute(\"\"\"CREATE INDEX reddit_sift_image_index \n",
    "                    ON reddit_dataset (SiftFeatureExtractor(data)) \n",
    "                    USING FAISS\"\"\")\n",
    "response = cursor.fetch_all()\n",
    "response.as_df()"
   ]
  },
  {
   "cell_type": "code",
   "execution_count": 58,
   "id": "f54cfe6b",
   "metadata": {
    "execution": {
     "iopub.execute_input": "2023-05-17T21:04:50.816669Z",
     "iopub.status.busy": "2023-05-17T21:04:50.816115Z",
     "iopub.status.idle": "2023-05-17T21:04:51.340155Z",
     "shell.execute_reply": "2023-05-17T21:04:51.339243Z"
    }
   },
   "outputs": [],
   "source": [
    "#2. Search similar vectors\n",
    "cursor.execute(\"\"\"SELECT name FROM reddit_dataset ORDER BY\n",
    "                    Similarity(\n",
    "                      SiftFeatureExtractor(Open('reddit-images/g1190_clna260.jpg')),\n",
    "                      SiftFeatureExtractor(data)\n",
    "                    )\n",
    "                    LIMIT 5\"\"\")\n",
    "response = cursor.fetch_all()\n",
    "response.as_df()"
   ]
  },
  {
   "cell_type": "code",
   "execution_count": 59,
   "id": "68734588",
   "metadata": {
    "execution": {
     "iopub.execute_input": "2023-05-17T21:04:51.345311Z",
     "iopub.status.busy": "2023-05-17T21:04:51.344682Z",
     "iopub.status.idle": "2023-05-17T21:04:51.350602Z",
     "shell.execute_reply": "2023-05-17T21:04:51.349569Z"
    }
   },
   "outputs": [],
   "source": [
    "#3. Update votes\n",
    "res_df = response.as_df()\n",
    "for i in range(len(res_df)):\n",
    "    vote[res_df[\"reddit_dataset.name\"][i]] += 1\n",
    "print(vote)"
   ]
  },
  {
   "attachments": {},
   "cell_type": "markdown",
   "id": "a19a5d51",
   "metadata": {
    "execution": {
     "iopub.execute_input": "2023-05-10T04:14:02.901910Z",
     "iopub.status.busy": "2023-05-10T04:14:02.901809Z",
     "iopub.status.idle": "2023-05-10T04:14:02.903869Z",
     "shell.execute_reply": "2023-05-10T04:14:02.903634Z"
    }
   },
   "source": [
    "## Object-level similarity search pipeline. \n",
    "This pipeline detects objects within images and generates vectors exclusively from the cropped objects. The index is then constructed using these vectors. To showcase the versatility of `evadb`, we leverage `Qdrant` vector store specifically for building this index. This demonstrates how seamlessly you can leverage different vector stores within evadb."
   ]
  },
  {
   "attachments": {},
   "cell_type": "markdown",
   "id": "bce1b7fe",
   "metadata": {},
   "source": [
    "### 1. Extract all the object using `Yolo` from the images"
   ]
  },
  {
   "cell_type": "code",
   "execution_count": 61,
   "id": "cefc8b80",
   "metadata": {
    "execution": {
     "iopub.execute_input": "2023-05-17T21:04:51.354467Z",
     "iopub.status.busy": "2023-05-17T21:04:51.353983Z",
     "iopub.status.idle": "2023-05-17T21:04:51.723611Z",
     "shell.execute_reply": "2023-05-17T21:04:51.722672Z"
    }
   },
   "outputs": [],
   "source": [
    "cursor.execute(\"\"\"\n",
    "              CREATE MATERIALIZED VIEW reddit_object_table (name, data, bboxes,labels)\n",
    "                AS SELECT name, data, bboxes, labels FROM reddit_dataset\n",
    "                  JOIN LATERAL UNNEST(Yolo(data)) AS Obj(labels, bboxes, scores)\"\"\")\n",
    "response = cursor.fetch_all()\n",
    "response.as_df()"
   ]
  },
  {
   "attachments": {},
   "cell_type": "markdown",
   "id": "b356c435",
   "metadata": {},
   "source": [
    "### 2. Build an index on the feature vectors of the extracted objects"
   ]
  },
  {
   "cell_type": "code",
   "execution_count": 63,
   "id": "bc0341be",
   "metadata": {
    "execution": {
     "iopub.execute_input": "2023-05-17T20:12:00.039325Z",
     "iopub.status.busy": "2023-05-17T20:12:00.038855Z",
     "iopub.status.idle": "2023-05-17T20:12:00.369670Z",
     "shell.execute_reply": "2023-05-17T20:12:00.368741Z"
    }
   },
   "outputs": [],
   "source": [
    "cursor.execute(\"\"\"CREATE INDEX reddit_sift_object_index\n",
    "                    ON reddit_object_table (SiftFeatureExtractor(Crop(data, bboxes)))\n",
    "                    USING QDRANT\"\"\")\n",
    "response = cursor.fetch_all()\n",
    "response.as_df()"
   ]
  },
  {
   "cell_type": "code",
   "execution_count": 50,
   "id": "17bfafc6",
   "metadata": {
    "execution": {
     "iopub.execute_input": "2023-05-17T17:13:18.594850Z",
     "iopub.status.busy": "2023-05-17T17:13:18.594548Z",
     "iopub.status.idle": "2023-05-17T17:13:19.138437Z",
     "shell.execute_reply": "2023-05-17T17:13:19.137360Z"
    }
   },
   "outputs": [],
   "source": [
    "# Create a cropped images (We are actively working on features to allow\n",
    "# us to not do this outside SQL)\n",
    "cursor.execute(\"LOAD IMAGE 'reddit-images/g1190_clna260.jpg' INTO reddit_search_image_dataset\")\n",
    "response = cursor.fetch_all()\n",
    "print(response.as_df())\n",
    "cursor.execute(\"SELECT Yolo(data).bboxes FROM reddit_search_image_dataset\")\n",
    "response = cursor.fetch_all()\n",
    "print(response.as_df())\n",
    "\n",
    "\n",
    "import cv2\n",
    "import pathlib\n",
    "\n",
    "res_df = response.as_df()\n",
    "bboxes = res_df[\"yolo.bboxes\"][0]\n",
    "\n",
    "img = cv2.imread(\"reddit-images/g1190_clna260.jpg\")\n",
    "pathlib.Path(\"reddit-images/search-object/\").mkdir(parents=True, exist_ok=True)\n",
    "for i, bbox in enumerate(bboxes):\n",
    "    xmin, ymin, xmax, ymax = bbox\n",
    "    xmin, ymin, xmax, ymax = int(xmin), int(ymin), int(xmax), int(ymax)\n",
    "    cropped_img = img[ymin:ymax, xmin:xmax]\n",
    "    cv2.imwrite(f\"reddit-images/search-object/search-{i}.jpg\", cropped_img)"
   ]
  },
  {
   "attachments": {},
   "cell_type": "markdown",
   "id": "40e563b2",
   "metadata": {},
   "source": [
    "### 3. Retrieve using object-level similarity search"
   ]
  },
  {
   "cell_type": "code",
   "execution_count": 51,
   "id": "f9f29c9c",
   "metadata": {
    "execution": {
     "iopub.execute_input": "2023-05-17T17:13:19.142550Z",
     "iopub.status.busy": "2023-05-17T17:13:19.142238Z",
     "iopub.status.idle": "2023-05-17T17:13:22.654278Z",
     "shell.execute_reply": "2023-05-17T17:13:22.653086Z"
    }
   },
   "outputs": [],
   "source": [
    "#4. \n",
    "import os\n",
    "\n",
    "for path in os.listdir(\"reddit-images/search-object/\"):\n",
    "    path = \"reddit-images/search-object/\" + path\n",
    "    cursor.execute(f\"\"\"SELECT name FROM reddit_object_table ORDER BY\n",
    "                        Similarity(\n",
    "                          SiftFeatureExtractor(Open('{path}')),\n",
    "                          SiftFeatureExtractor(data)\n",
    "                        )\n",
    "                        LIMIT 1\"\"\")\n",
    "    response = cursor.fetch_all()\n",
    "\n",
    "    \n",
    "    res_df = response.as_df()\n",
    "    for i in range(len(res_df)):\n",
    "        vote[res_df[\"reddit_object_table.name\"][i]] += 0.5\n",
    "\n",
    "    response.as_df()"
   ]
  },
  {
   "attachments": {},
   "cell_type": "markdown",
   "id": "096d4970",
   "metadata": {},
   "source": [
    "# Combine the scores from image level and object level similarity to show similar images"
   ]
  },
  {
   "cell_type": "code",
   "execution_count": 52,
   "id": "1cc67393",
   "metadata": {
    "execution": {
     "iopub.execute_input": "2023-05-17T17:13:22.658312Z",
     "iopub.status.busy": "2023-05-17T17:13:22.657877Z",
     "iopub.status.idle": "2023-05-17T17:13:24.235254Z",
     "shell.execute_reply": "2023-05-17T17:13:24.234350Z"
    }
   },
   "outputs": [],
   "source": [
    "# !pip install matplotlib\n",
    "import matplotlib.pyplot as plt\n",
    "\n",
    "# Display top images\n",
    "vote_list = list(reversed(sorted([(path, count) for path, count in vote.items()], key=lambda x: x[1])))\n",
    "img_list = [path for path, _ in vote_list]\n",
    "\n",
    "fig, ax = plt.subplots(nrows=1, ncols=6, figsize=[18,10])\n",
    "ax[0].imshow(cv2.imread(\"reddit-images/g1190_clna260.jpg\"))\n",
    "ax[0].set_title(\"Search\")\n",
    "\n",
    "for i in range(5):\n",
    "    axi = ax[i + 1]\n",
    "    img = cv2.imread(img_list[i])\n",
    "    axi.imshow(img)\n",
    "    axi.set_title(f\"Top-{i + 1}\")\n",
    "\n",
    "plt.show()"
   ]
  }
 ],
 "metadata": {
  "kernelspec": {
   "display_name": "Python 3 (ipykernel)",
   "language": "python",
   "name": "python3"
  },
  "language_info": {
   "codemirror_mode": {
    "name": "ipython",
    "version": 3
   },
   "file_extension": ".py",
   "mimetype": "text/x-python",
   "name": "python",
   "nbconvert_exporter": "python",
   "pygments_lexer": "ipython3",
   "version": "3.8.10"
  }
 },
 "nbformat": 4,
 "nbformat_minor": 5
}
